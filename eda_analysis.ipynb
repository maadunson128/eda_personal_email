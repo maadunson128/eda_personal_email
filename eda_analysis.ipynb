{
  "cells": [
    {
      "cell_type": "code",
      "execution_count": null,
      "id": "3a92f55d-e0a9-4d44-b1ad-429dae317dfd",
      "metadata": {
        "id": "3a92f55d-e0a9-4d44-b1ad-429dae317dfd"
      },
      "outputs": [],
      "source": [
        "###This is the EDA for my own personal email dataset."
      ]
    },
    {
      "cell_type": "code",
      "source": [
        "#importing libraries\n",
        "import numpy as np\n",
        "import matplotlib.pyplot as plt\n",
        "import pandas as pd"
      ],
      "metadata": {
        "id": "9FIsjc1pwSsT"
      },
      "id": "9FIsjc1pwSsT",
      "execution_count": 1,
      "outputs": []
    },
    {
      "cell_type": "code",
      "source": [
        "#installing the mailbox module\n",
        "!pip install mailbox"
      ],
      "metadata": {
        "id": "b8m0IX1Owhvi",
        "outputId": "ae60948d-62f8-4910-b70a-373f0a4a8c83",
        "colab": {
          "base_uri": "https://localhost:8080/"
        }
      },
      "id": "b8m0IX1Owhvi",
      "execution_count": 2,
      "outputs": [
        {
          "output_type": "stream",
          "name": "stdout",
          "text": [
            "Collecting mailbox\n",
            "  Downloading mailbox-0.4.tar.gz (4.1 kB)\n",
            "  Preparing metadata (setup.py) ... \u001b[?25l\u001b[?25hdone\n",
            "Building wheels for collected packages: mailbox\n",
            "  Building wheel for mailbox (setup.py) ... \u001b[?25l\u001b[?25hdone\n",
            "  Created wheel for mailbox: filename=mailbox-0.4-py3-none-any.whl size=4684 sha256=ac8d0b8fcf5dc7f21bbb4be124ecd021560a920b6cd555acf570b342c4de84ae\n",
            "  Stored in directory: /root/.cache/pip/wheels/7a/95/10/e0864f9d19ec7dcdf7eeedcb286ec19fc2556404a5e63e12de\n",
            "Successfully built mailbox\n",
            "Installing collected packages: mailbox\n",
            "Successfully installed mailbox-0.4\n"
          ]
        }
      ]
    },
    {
      "cell_type": "code",
      "source": [
        "import mailbox"
      ],
      "metadata": {
        "id": "r28r1ADgxaNb"
      },
      "id": "r28r1ADgxaNb",
      "execution_count": 4,
      "outputs": []
    },
    {
      "cell_type": "code",
      "source": [],
      "metadata": {
        "id": "9uNiVk52xjgI"
      },
      "id": "9uNiVk52xjgI",
      "execution_count": null,
      "outputs": []
    }
  ],
  "metadata": {
    "kernelspec": {
      "display_name": "Python 3 (ipykernel)",
      "language": "python",
      "name": "python3"
    },
    "language_info": {
      "codemirror_mode": {
        "name": "ipython",
        "version": 3
      },
      "file_extension": ".py",
      "mimetype": "text/x-python",
      "name": "python",
      "nbconvert_exporter": "python",
      "pygments_lexer": "ipython3",
      "version": "3.12.3"
    },
    "colab": {
      "provenance": []
    }
  },
  "nbformat": 4,
  "nbformat_minor": 5
}