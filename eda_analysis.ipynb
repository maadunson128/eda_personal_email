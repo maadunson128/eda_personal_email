{
 "cells": [
  {
   "cell_type": "code",
   "execution_count": null,
   "id": "3a92f55d-e0a9-4d44-b1ad-429dae317dfd",
   "metadata": {},
   "outputs": [],
   "source": [
    "###This is the EDA for my own personal email dataset."
   ]
  }
 ],
 "metadata": {
  "kernelspec": {
   "display_name": "Python 3 (ipykernel)",
   "language": "python",
   "name": "python3"
  },
  "language_info": {
   "codemirror_mode": {
    "name": "ipython",
    "version": 3
   },
   "file_extension": ".py",
   "mimetype": "text/x-python",
   "name": "python",
   "nbconvert_exporter": "python",
   "pygments_lexer": "ipython3",
   "version": "3.12.3"
  }
 },
 "nbformat": 4,
 "nbformat_minor": 5
}
